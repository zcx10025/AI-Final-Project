{
 "cells": [
  {
   "cell_type": "markdown",
   "metadata": {},
   "source": [
    "Import all the libraries.<br/>\n",
    "Use pandas and numpy to load and deal with the data.<br/>\n",
    "Use wordcloud to create a plot for the text content.<br/>\n",
    "Use matplotlib and seaborn to create plot for results.<br/>\n",
    "Use scikit-learn to encode the label, split the data set, build machine learnong models and get the accuracy.<br/>\n",
    "Use keras to tokenize the text and build CNN and RNN.<br/>\n",
    "Use tensorflow 2.0 and tensorflow-gpu backend."
   ]
  },
  {
   "cell_type": "code",
   "execution_count": 1,
   "metadata": {},
   "outputs": [],
   "source": [
    "import pandas as pd\n",
    "import numpy as np\n",
    "\n",
    "from nltk.corpus import stopwords\n",
    "from wordcloud import WordCloud\n",
    "\n",
    "import matplotlib.pyplot as plt\n",
    "import seaborn as sns\n",
    "\n",
    "from sklearn import preprocessing\n",
    "from sklearn.model_selection import train_test_split\n",
    "from sklearn import metrics\n",
    "\n",
    "from sklearn.naive_bayes import GaussianNB\n",
    "from sklearn.linear_model import LogisticRegression\n",
    "from sklearn.tree import DecisionTreeClassifier\n",
    "from sklearn.neighbors import KNeighborsClassifier\n",
    "from sklearn.svm import SVC\n",
    "from sklearn.discriminant_analysis import LinearDiscriminantAnalysis\n",
    "from sklearn.ensemble import RandomForestClassifier\n",
    "\n",
    "from tensorflow.keras.preprocessing.text import Tokenizer\n",
    "from tensorflow.keras.preprocessing.sequence import pad_sequences\n",
    " \n",
    "from tensorflow.keras.models import Sequential\n",
    "from tensorflow.keras import layers"
   ]
  },
  {
   "cell_type": "markdown",
   "metadata": {},
   "source": [
    "Load the data set. Since the data set contains text, so I set the encoding to \"latin-1\"."
   ]
  },
  {
   "cell_type": "code",
   "execution_count": 2,
   "metadata": {},
   "outputs": [],
   "source": [
    "resume=pd.read_csv(\"Sheet_2.csv\",encoding='latin-1')"
   ]
  },
  {
   "cell_type": "markdown",
   "metadata": {},
   "source": [
    "Show the first five rows of the data set."
   ]
  },
  {
   "cell_type": "code",
   "execution_count": 3,
   "metadata": {},
   "outputs": [
    {
     "data": {
      "text/html": [
       "<div>\n",
       "<style scoped>\n",
       "    .dataframe tbody tr th:only-of-type {\n",
       "        vertical-align: middle;\n",
       "    }\n",
       "\n",
       "    .dataframe tbody tr th {\n",
       "        vertical-align: top;\n",
       "    }\n",
       "\n",
       "    .dataframe thead th {\n",
       "        text-align: right;\n",
       "    }\n",
       "</style>\n",
       "<table border=\"1\" class=\"dataframe\">\n",
       "  <thead>\n",
       "    <tr style=\"text-align: right;\">\n",
       "      <th></th>\n",
       "      <th>resume_id</th>\n",
       "      <th>class</th>\n",
       "      <th>resume_text</th>\n",
       "    </tr>\n",
       "  </thead>\n",
       "  <tbody>\n",
       "    <tr>\n",
       "      <th>0</th>\n",
       "      <td>resume_1</td>\n",
       "      <td>not_flagged</td>\n",
       "      <td>\\rCustomer Service Supervisor/Tier - Isabella ...</td>\n",
       "    </tr>\n",
       "    <tr>\n",
       "      <th>1</th>\n",
       "      <td>resume_2</td>\n",
       "      <td>not_flagged</td>\n",
       "      <td>\\rEngineer / Scientist - IBM Microelectronics ...</td>\n",
       "    </tr>\n",
       "    <tr>\n",
       "      <th>2</th>\n",
       "      <td>resume_3</td>\n",
       "      <td>not_flagged</td>\n",
       "      <td>\\rLTS Software Engineer Computational Lithogra...</td>\n",
       "    </tr>\n",
       "    <tr>\n",
       "      <th>3</th>\n",
       "      <td>resume_4</td>\n",
       "      <td>not_flagged</td>\n",
       "      <td>TUTOR\\rWilliston VT - Email me on Indeed: ind...</td>\n",
       "    </tr>\n",
       "    <tr>\n",
       "      <th>4</th>\n",
       "      <td>resume_5</td>\n",
       "      <td>flagged</td>\n",
       "      <td>\\rIndependent Consultant - Self-employed\\rBurl...</td>\n",
       "    </tr>\n",
       "  </tbody>\n",
       "</table>\n",
       "</div>"
      ],
      "text/plain": [
       "  resume_id        class                                        resume_text\n",
       "0  resume_1  not_flagged  \\rCustomer Service Supervisor/Tier - Isabella ...\n",
       "1  resume_2  not_flagged  \\rEngineer / Scientist - IBM Microelectronics ...\n",
       "2  resume_3  not_flagged  \\rLTS Software Engineer Computational Lithogra...\n",
       "3  resume_4  not_flagged   TUTOR\\rWilliston VT - Email me on Indeed: ind...\n",
       "4  resume_5      flagged  \\rIndependent Consultant - Self-employed\\rBurl..."
      ]
     },
     "execution_count": 3,
     "metadata": {},
     "output_type": "execute_result"
    }
   ],
   "source": [
    "resume.head()"
   ]
  },
  {
   "cell_type": "markdown",
   "metadata": {},
   "source": [
    "Get the numbers of the label."
   ]
  },
  {
   "cell_type": "code",
   "execution_count": 4,
   "metadata": {},
   "outputs": [
    {
     "data": {
      "text/plain": [
       "not_flagged    92\n",
       "flagged        33\n",
       "Name: class, dtype: int64"
      ]
     },
     "execution_count": 4,
     "metadata": {},
     "output_type": "execute_result"
    }
   ],
   "source": [
    "resume['class'].value_counts()"
   ]
  },
  {
   "cell_type": "markdown",
   "metadata": {},
   "source": [
    "Creat a histogram for the label."
   ]
  },
  {
   "cell_type": "code",
   "execution_count": 5,
   "metadata": {},
   "outputs": [
    {
     "data": {
      "image/png": "[encoded data removed]",
      "text/plain": [
       "<Figure size 432x288 with 1 Axes>"
      ]
     },
     "metadata": {
      "needs_background": "light"
     },
     "output_type": "display_data"
    }
   ],
   "source": [
    "sns.countplot(resume['class'],label=\"Count\")\n",
    "plt.show()"
   ]
  },
  {
   "cell_type": "markdown",
   "metadata": {},
   "source": [
    "Create word cloud for the text content. This plot can show words that appear frequently in the text."
   ]
  },
  {
   "cell_type": "code",
   "execution_count": 6,
   "metadata": {},
   "outputs": [
    {
     "data": {
      "text/plain": [
       "<matplotlib.image.AxesImage at 0x1a324d0a208>"
      ]
     },
     "execution_count": 6,
     "metadata": {},
     "output_type": "execute_result"
    },
    {
     "data": {
      "image/png": "[encoded data removed]",
      "text/plain": [
       "<Figure size 432x288 with 1 Axes>"
      ]
     },
     "metadata": {
      "needs_background": "light"
     },
     "output_type": "display_data"
    }
   ],
   "source": [
    "#set the variable\n",
    "sw=set(stopwords.words('english'))\n",
    "text=resume['resume_text']\n",
    "\n",
    "#create word cloud\n",
    "wordcloud=WordCloud(background_color=\"white\",stopwords=sw).generate(\"\".join([i for i in text.str.upper()]))\n",
    "\n",
    "#show the plot\n",
    "plt.title(\"Resume Content\")\n",
    "plt.axis(\"off\")\n",
    "plt.imshow(wordcloud)"
   ]
  },
  {
   "cell_type": "markdown",
   "metadata": {},
   "source": [
    "Encode the label."
   ]
  },
  {
   "cell_type": "code",
   "execution_count": 7,
   "metadata": {},
   "outputs": [
    {
     "data": {
      "text/plain": [
       "1    92\n",
       "0    33\n",
       "Name: label, dtype: int64"
      ]
     },
     "execution_count": 7,
     "metadata": {},
     "output_type": "execute_result"
    }
   ],
   "source": [
    "encode=preprocessing.LabelEncoder()\n",
    "resume['label']=encode.fit_transform(resume['class'])\n",
    "resume['label'].value_counts()"
   ]
  },
  {
   "cell_type": "markdown",
   "metadata": {},
   "source": [
    "Show the data set after encoding."
   ]
  },
  {
   "cell_type": "code",
   "execution_count": 8,
   "metadata": {},
   "outputs": [
    {
     "data": {
      "text/html": [
       "<div>\n",
       "<style scoped>\n",
       "    .dataframe tbody tr th:only-of-type {\n",
       "        vertical-align: middle;\n",
       "    }\n",
       "\n",
       "    .dataframe tbody tr th {\n",
       "        vertical-align: top;\n",
       "    }\n",
       "\n",
       "    .dataframe thead th {\n",
       "        text-align: right;\n",
       "    }\n",
       "</style>\n",
       "<table border=\"1\" class=\"dataframe\">\n",
       "  <thead>\n",
       "    <tr style=\"text-align: right;\">\n",
       "      <th></th>\n",
       "      <th>resume_id</th>\n",
       "      <th>class</th>\n",
       "      <th>resume_text</th>\n",
       "      <th>label</th>\n",
       "    </tr>\n",
       "  </thead>\n",
       "  <tbody>\n",
       "    <tr>\n",
       "      <th>0</th>\n",
       "      <td>resume_1</td>\n",
       "      <td>not_flagged</td>\n",
       "      <td>\\rCustomer Service Supervisor/Tier - Isabella ...</td>\n",
       "      <td>1</td>\n",
       "    </tr>\n",
       "    <tr>\n",
       "      <th>1</th>\n",
       "      <td>resume_2</td>\n",
       "      <td>not_flagged</td>\n",
       "      <td>\\rEngineer / Scientist - IBM Microelectronics ...</td>\n",
       "      <td>1</td>\n",
       "    </tr>\n",
       "    <tr>\n",
       "      <th>2</th>\n",
       "      <td>resume_3</td>\n",
       "      <td>not_flagged</td>\n",
       "      <td>\\rLTS Software Engineer Computational Lithogra...</td>\n",
       "      <td>1</td>\n",
       "    </tr>\n",
       "    <tr>\n",
       "      <th>3</th>\n",
       "      <td>resume_4</td>\n",
       "      <td>not_flagged</td>\n",
       "      <td>TUTOR\\rWilliston VT - Email me on Indeed: ind...</td>\n",
       "      <td>1</td>\n",
       "    </tr>\n",
       "    <tr>\n",
       "      <th>4</th>\n",
       "      <td>resume_5</td>\n",
       "      <td>flagged</td>\n",
       "      <td>\\rIndependent Consultant - Self-employed\\rBurl...</td>\n",
       "      <td>0</td>\n",
       "    </tr>\n",
       "  </tbody>\n",
       "</table>\n",
       "</div>"
      ],
      "text/plain": [
       "  resume_id        class                                        resume_text  \\\n",
       "0  resume_1  not_flagged  \\rCustomer Service Supervisor/Tier - Isabella ...   \n",
       "1  resume_2  not_flagged  \\rEngineer / Scientist - IBM Microelectronics ...   \n",
       "2  resume_3  not_flagged  \\rLTS Software Engineer Computational Lithogra...   \n",
       "3  resume_4  not_flagged   TUTOR\\rWilliston VT - Email me on Indeed: ind...   \n",
       "4  resume_5      flagged  \\rIndependent Consultant - Self-employed\\rBurl...   \n",
       "\n",
       "   label  \n",
       "0      1  \n",
       "1      1  \n",
       "2      1  \n",
       "3      1  \n",
       "4      0  "
      ]
     },
     "execution_count": 8,
     "metadata": {},
     "output_type": "execute_result"
    }
   ],
   "source": [
    "resume.head()"
   ]
  },
  {
   "cell_type": "markdown",
   "metadata": {},
   "source": [
    "Split training set and testing set. Then use tokenizer in Keras to convert text to vectors. This step is designed to convert the text to a new type that can be recognized by models."
   ]
  },
  {
   "cell_type": "code",
   "execution_count": 9,
   "metadata": {},
   "outputs": [],
   "source": [
    "#set the variables\n",
    "x=resume.resume_text\n",
    "y=resume.label.values\n",
    "\n",
    "#split the data\n",
    "x_train,x_test,y_train,y_test=train_test_split(x,y,test_size=0.2,random_state=56)\n",
    "\n",
    "#create a Tokenizer object\n",
    "#ignore the text of 5000 words or more\n",
    "tokenizer=Tokenizer(num_words=5000)\n",
    "\n",
    "#fit the training set\n",
    "#number each word in the training set\n",
    "#the more frequently a word appears, the smaller its number\n",
    "tokenizer.fit_on_texts(x_train)\n",
    "\n",
    "#convert each word in the training and testing set to a list of numbers\n",
    "X_train=tokenizer.texts_to_sequences(x_train)\n",
    "X_test=tokenizer.texts_to_sequences(x_test)\n",
    "\n",
    "#get the length of the Tokenizer object\n",
    "# add 1 because the index starts from 0\n",
    "vocab_size=len(tokenizer.word_index)+1                          \n",
    "\n",
    "#length of each sample is not necessarily equal\n",
    "#set a max value for the length of each sample\n",
    "maxlen=500\n",
    "\n",
    "#sample that exceeds \"maxlen\" will be cut off\n",
    "#fill the sample which is shorter than \"maxlen\" with 0\n",
    "X_train=pad_sequences(X_train,padding='post',maxlen=maxlen)\n",
    "X_test=pad_sequences(X_test,padding='post',maxlen=maxlen)\n",
    "\n",
    "#reshape label\n",
    "y_train=y_train.reshape(len(y_train),1)\n",
    "y_test=y_test.reshape(len(y_test),1)"
   ]
  },
  {
   "cell_type": "markdown",
   "metadata": {},
   "source": [
    "Show the type of the data"
   ]
  },
  {
   "cell_type": "code",
   "execution_count": 10,
   "metadata": {},
   "outputs": [
    {
     "name": "stdout",
     "output_type": "stream",
     "text": [
      "X_train type: <class 'numpy.ndarray'>\n",
      "y_train type: <class 'numpy.ndarray'>\n",
      "X_test type: <class 'numpy.ndarray'>\n",
      "y_test type: <class 'numpy.ndarray'>\n"
     ]
    }
   ],
   "source": [
    "print('X_train type:',type(X_train))\n",
    "print('y_train type:',type(y_train))\n",
    "print('X_test type:',type(X_test))\n",
    "print('y_test type:',type(y_test))"
   ]
  },
  {
   "cell_type": "markdown",
   "metadata": {},
   "source": [
    "Show the shape of the data"
   ]
  },
  {
   "cell_type": "code",
   "execution_count": 11,
   "metadata": {},
   "outputs": [
    {
     "name": "stdout",
     "output_type": "stream",
     "text": [
      "X_train shape: (100, 500)\n",
      "y_train shape: (100, 1)\n",
      "X_test shape: (25, 500)\n",
      "y_test shape: (25, 1)\n"
     ]
    }
   ],
   "source": [
    "print('X_train shape:',X_train.shape)\n",
    "print('y_train shape:',y_train.shape)\n",
    "print('X_test shape:',X_test.shape)\n",
    "print('y_test shape:',y_test.shape)"
   ]
  },
  {
   "cell_type": "markdown",
   "metadata": {},
   "source": [
    "Define a function to build models based on Gaussian Naive Bayes, Logistic Regression, K-nearest Neighbors,Support Vector Machine, Linear Discriminant Analysis, Decision Tree and Random Forest."
   ]
  },
  {
   "cell_type": "code",
   "execution_count": 12,
   "metadata": {},
   "outputs": [],
   "source": [
    "def ML_Algorithm(X_train,X_test,y_train,y_test):\n",
    "    \n",
    "    #Gaussian Naive Bayes\n",
    "    NB=GaussianNB()\n",
    "    NB.fit(X_train,y_train)\n",
    "    NBpred=NB.predict(X_test)\n",
    "    NBAcc=metrics.accuracy_score(y_test,NBpred)\n",
    "    \n",
    "    #Logistic Regression\n",
    "    LR=LogisticRegression()\n",
    "    LR.fit(X_train, y_train)\n",
    "    LRpred=LR.predict(X_test)\n",
    "    LRAcc=metrics.accuracy_score(y_test,LRpred)\n",
    "    \n",
    "    #K-nearest Neighbors\n",
    "    KNN=KNeighborsClassifier()\n",
    "    KNN.fit(X_train, y_train)\n",
    "    KNNpred=KNN.predict(X_test)\n",
    "    KNNAcc=metrics.accuracy_score(y_test,KNNpred)\n",
    "    \n",
    "    #Support Vector Machine\n",
    "    SVM=SVC()\n",
    "    SVM.fit(X_train, y_train)\n",
    "    SVMpred=SVM.predict(X_test)\n",
    "    SVMAcc=metrics.accuracy_score(y_test,SVMpred)\n",
    "    \n",
    "    #Linear Discriminant Analysis\n",
    "    LDA=LinearDiscriminantAnalysis()\n",
    "    LDA.fit(X_train, y_train)\n",
    "    LDApred=LDA.predict(X_test)\n",
    "    LDAAcc=metrics.accuracy_score(y_test,LDApred)\n",
    "    \n",
    "    #Decision Tree\n",
    "    #Set max depth to avoid overfitting\n",
    "    DT=DecisionTreeClassifier(max_depth=10)\n",
    "    DT.fit(X_train,y_train)\n",
    "    DTpred=DT.predict(X_test)\n",
    "    DTAcc=metrics.accuracy_score(y_test,DTpred)\n",
    "    \n",
    "    #Random Forest\n",
    "    #Set max depth and max features to avoid overfitting\n",
    "    RF=RandomForestClassifier(max_depth=10,max_features=5)\n",
    "    RF.fit(X_train,y_train)\n",
    "    RFpred=RF.predict(X_test)\n",
    "    RFAcc=metrics.accuracy_score(y_test,RFpred)\n",
    "    \n",
    "    #print the accuracy of each model\n",
    "    print('Accuracy of Gaussian Naive Bayes is: {:.2f}'.format(NBAcc))\n",
    "    print('Accuracy of Logistic Regression is: {:.2f}'.format(LRAcc))\n",
    "    print('Accuracy of K-nearest Neighbors is: {:.2f}'.format(KNNAcc))\n",
    "    print('Accuracy of Support Vector Machine is: {:.2f}'.format(SVMAcc))\n",
    "    print('Accuracy of Linear Discriminant Analysis is: {:.2f}'.format(LDAAcc))\n",
    "    print('Accuracy of Decision Tree is: {:.2f}'.format(DTAcc))\n",
    "    print('Accuracy of Random Forest is: {:.2f}'.format(RFAcc))"
   ]
  },
  {
   "cell_type": "markdown",
   "metadata": {},
   "source": [
    "Deploy the function."
   ]
  },
  {
   "cell_type": "code",
   "execution_count": 13,
   "metadata": {},
   "outputs": [
    {
     "name": "stdout",
     "output_type": "stream",
     "text": [
      "Accuracy of Gaussian Naive Bayes is: 0.80\n",
      "Accuracy of Logistic Regression is: 0.76\n",
      "Accuracy of K-nearest Neighbors is: 0.80\n",
      "Accuracy of Support Vector Machine is: 0.80\n",
      "Accuracy of Linear Discriminant Analysis is: 0.64\n",
      "Accuracy of Decision Tree is: 0.76\n",
      "Accuracy of Random Forest is: 0.64\n"
     ]
    },
    {
     "name": "stderr",
     "output_type": "stream",
     "text": [
      "D:\\miniconda\\lib\\site-packages\\sklearn\\utils\\validation.py:761: DataConversionWarning: A column-vector y was passed when a 1d array was expected. Please change the shape of y to (n_samples, ), for example using ravel().\n",
      "  y = column_or_1d(y, warn=True)\n",
      "D:\\miniconda\\lib\\site-packages\\sklearn\\linear_model\\logistic.py:433: FutureWarning: Default solver will be changed to 'lbfgs' in 0.22. Specify a solver to silence this warning.\n",
      "  FutureWarning)\n",
      "D:\\miniconda\\lib\\site-packages\\sklearn\\utils\\validation.py:761: DataConversionWarning: A column-vector y was passed when a 1d array was expected. Please change the shape of y to (n_samples, ), for example using ravel().\n",
      "  y = column_or_1d(y, warn=True)\n",
      "D:\\miniconda\\lib\\site-packages\\ipykernel_launcher.py:17: DataConversionWarning: A column-vector y was passed when a 1d array was expected. Please change the shape of y to (n_samples, ), for example using ravel().\n",
      "D:\\miniconda\\lib\\site-packages\\sklearn\\utils\\validation.py:761: DataConversionWarning: A column-vector y was passed when a 1d array was expected. Please change the shape of y to (n_samples, ), for example using ravel().\n",
      "  y = column_or_1d(y, warn=True)\n",
      "D:\\miniconda\\lib\\site-packages\\sklearn\\svm\\base.py:196: FutureWarning: The default value of gamma will change from 'auto' to 'scale' in version 0.22 to account better for unscaled features. Set gamma explicitly to 'auto' or 'scale' to avoid this warning.\n",
      "  \"avoid this warning.\", FutureWarning)\n",
      "D:\\miniconda\\lib\\site-packages\\sklearn\\utils\\validation.py:761: DataConversionWarning: A column-vector y was passed when a 1d array was expected. Please change the shape of y to (n_samples, ), for example using ravel().\n",
      "  y = column_or_1d(y, warn=True)\n",
      "D:\\miniconda\\lib\\site-packages\\sklearn\\discriminant_analysis.py:388: UserWarning: Variables are collinear.\n",
      "  warnings.warn(\"Variables are collinear.\")\n",
      "D:\\miniconda\\lib\\site-packages\\sklearn\\ensemble\\forest.py:246: FutureWarning: The default value of n_estimators will change from 10 in version 0.20 to 100 in 0.22.\n",
      "  \"10 in version 0.20 to 100 in 0.22.\", FutureWarning)\n",
      "D:\\miniconda\\lib\\site-packages\\ipykernel_launcher.py:43: DataConversionWarning: A column-vector y was passed when a 1d array was expected. Please change the shape of y to (n_samples,), for example using ravel().\n"
     ]
    }
   ],
   "source": [
    "ML_Algorithm(X_train,X_test,y_train,y_test)"
   ]
  },
  {
   "cell_type": "markdown",
   "metadata": {},
   "source": [
    "Download this zipfile: http://downloads.cs.stanford.edu/nlp/data/glove.6B.zip. Then extract it into your default path of jupyter notebook.<br/>\n",
    "Use \"glove\" to generate a initial weight matrix for neural network model."
   ]
  },
  {
   "cell_type": "code",
   "execution_count": 14,
   "metadata": {},
   "outputs": [],
   "source": [
    "#set embedding dimension\n",
    "embedding_dim=100\n",
    "\n",
    "#initialize the embedding matrix\n",
    "embedding_matrix=np.zeros((vocab_size,embedding_dim))\n",
    "\n",
    "#create the embedding matrix\n",
    "with open('glove.6B.50d.txt','rb') as f:\n",
    "        for line in f:\n",
    "            word,*vector=line.split()\n",
    "            if word in tokenizer.word_index:\n",
    "                idx=tokenizer.word_index[word] \n",
    "                embedding_matrix[idx]=np.array(vector,dtype=np.float32)[:embedding_dim]"
   ]
  },
  {
   "cell_type": "markdown",
   "metadata": {},
   "source": [
    "Build the CNN model.<br/>\n",
    "Use activitaion function \"relu\" in convolution layer.<br/>\n",
    "Set a 10% drop out.<br/>\n",
    "Use maxpooling.<br/>\n",
    "In fully connected layer, use activitaion function \"sigmoid\".<br/>\n",
    "Use binary crossentropy loss function, adam optimizer and accuracy to compile the model."
   ]
  },
  {
   "cell_type": "code",
   "execution_count": 15,
   "metadata": {},
   "outputs": [],
   "source": [
    "model=Sequential()\n",
    "\n",
    "model.add(layers.Embedding(vocab_size,embedding_dim,weights=[embedding_matrix],input_length=maxlen))\n",
    "model.add(layers.Dropout(0.1))\n",
    "model.add(layers.Conv1D(96,5,activation='relu'))\n",
    "model.add(layers.GlobalMaxPooling1D())\n",
    "\n",
    "model.add(layers.Dense(10))\n",
    "model.add(layers.Dropout(0.1))\n",
    "\n",
    "model.add(layers.Dense(1,activation='sigmoid'))\n",
    "\n",
    "model.compile(optimizer='adam',loss='binary_crossentropy',metrics=['accuracy'])"
   ]
  },
  {
   "cell_type": "markdown",
   "metadata": {},
   "source": [
    "Train the model with batch size=10,epochs=10.<br/>\n",
    "Use 80% of the data to train and 20% of them to valid."
   ]
  },
  {
   "cell_type": "code",
   "execution_count": 16,
   "metadata": {},
   "outputs": [
    {
     "name": "stdout",
     "output_type": "stream",
     "text": [
      "Train on 80 samples, validate on 20 samples\n",
      "Epoch 1/10\n",
      "80/80 [==============================] - 2s 31ms/sample - loss: 0.6900 - accuracy: 0.6625 - val_loss: 0.6868 - val_accuracy: 0.7500\n",
      "Epoch 2/10\n",
      "80/80 [==============================] - 0s 3ms/sample - loss: 0.6853 - accuracy: 0.7125 - val_loss: 0.6799 - val_accuracy: 0.7500\n",
      "Epoch 3/10\n",
      "80/80 [==============================] - 0s 2ms/sample - loss: 0.6792 - accuracy: 0.7125 - val_loss: 0.6735 - val_accuracy: 0.7500\n",
      "Epoch 4/10\n",
      "80/80 [==============================] - 0s 2ms/sample - loss: 0.6742 - accuracy: 0.7125 - val_loss: 0.6670 - val_accuracy: 0.7500\n",
      "Epoch 5/10\n",
      "80/80 [==============================] - 0s 2ms/sample - loss: 0.6683 - accuracy: 0.7125 - val_loss: 0.6603 - val_accuracy: 0.7500\n",
      "Epoch 6/10\n",
      "80/80 [==============================] - 0s 2ms/sample - loss: 0.6659 - accuracy: 0.7125 - val_loss: 0.6539 - val_accuracy: 0.7500\n",
      "Epoch 7/10\n",
      "80/80 [==============================] - 0s 2ms/sample - loss: 0.6576 - accuracy: 0.7125 - val_loss: 0.6479 - val_accuracy: 0.7500\n",
      "Epoch 8/10\n",
      "80/80 [==============================] - 0s 2ms/sample - loss: 0.6519 - accuracy: 0.7125 - val_loss: 0.6423 - val_accuracy: 0.7500\n",
      "Epoch 9/10\n",
      "80/80 [==============================] - 0s 2ms/sample - loss: 0.6487 - accuracy: 0.7125 - val_loss: 0.6359 - val_accuracy: 0.7500\n",
      "Epoch 10/10\n",
      "80/80 [==============================] - 0s 2ms/sample - loss: 0.6463 - accuracy: 0.7125 - val_loss: 0.6308 - val_accuracy: 0.7500\n"
     ]
    }
   ],
   "source": [
    "history=model.fit(X_train,y_train,epochs=10,validation_split=0.2,batch_size=10)"
   ]
  },
  {
   "cell_type": "markdown",
   "metadata": {},
   "source": [
    "Show the accuracy on testing set."
   ]
  },
  {
   "cell_type": "code",
   "execution_count": 17,
   "metadata": {},
   "outputs": [
    {
     "name": "stdout",
     "output_type": "stream",
     "text": [
      "\r",
      "25/1 [==============================================================================================================================================================================================================================================================================================================================================================================================================================================================================================================================================================================================================================================================================================================================================================================] - 0s 10ms/sample - loss: 0.6163 - accuracy: 0.8000\n"
     ]
    }
   ],
   "source": [
    "acc=model.evaluate(X_test,y_test)[1]"
   ]
  },
  {
   "cell_type": "markdown",
   "metadata": {},
   "source": [
    "Build the RNN model (LSTM).<br/>\n",
    "Set a 10% drop out.<br/>\n",
    "In fully connected layer, use activitaion function \"sigmoid\".<br/>\n",
    "Use binary crossentropy loss function, adam optimizer and accuracy to compile the model."
   ]
  },
  {
   "cell_type": "code",
   "execution_count": 18,
   "metadata": {},
   "outputs": [],
   "source": [
    "model2=Sequential()\n",
    "\n",
    "model2.add(layers.Embedding(vocab_size,embedding_dim,weights=[embedding_matrix],input_length=maxlen))\n",
    "model2.add(layers.LSTM(96,recurrent_dropout=0.1))\n",
    "model2.add(layers.Dropout(0.1))\n",
    "\n",
    "model2.add(layers.Dense(10))\n",
    "model2.add(layers.Dropout(0.1))\n",
    "\n",
    "model2.add(layers.Dense(1))\n",
    "\n",
    "model2.add(layers.Activation('sigmoid'))\n",
    "\n",
    "model2.compile(optimizer='adam',loss='binary_crossentropy',metrics=['accuracy'])"
   ]
  },
  {
   "cell_type": "markdown",
   "metadata": {},
   "source": [
    "Train the model with batch size=10,epochs=10.<br/>\n",
    "Use 80% of the data to train and 20% of them to valid."
   ]
  },
  {
   "cell_type": "code",
   "execution_count": 19,
   "metadata": {},
   "outputs": [
    {
     "name": "stdout",
     "output_type": "stream",
     "text": [
      "Train on 80 samples, validate on 20 samples\n",
      "Epoch 1/10\n",
      "80/80 [==============================] - 8s 94ms/sample - loss: 0.6777 - accuracy: 0.6625 - val_loss: 0.6506 - val_accuracy: 0.7500\n",
      "Epoch 2/10\n",
      "80/80 [==============================] - 7s 83ms/sample - loss: 0.5977 - accuracy: 0.7125 - val_loss: 0.6279 - val_accuracy: 0.7500\n",
      "Epoch 3/10\n",
      "80/80 [==============================] - 7s 86ms/sample - loss: 0.6354 - accuracy: 0.7125 - val_loss: 0.6139 - val_accuracy: 0.7500\n",
      "Epoch 4/10\n",
      "80/80 [==============================] - 7s 86ms/sample - loss: 0.5553 - accuracy: 0.7125 - val_loss: 0.6063 - val_accuracy: 0.7500\n",
      "Epoch 5/10\n",
      "80/80 [==============================] - 6s 75ms/sample - loss: 0.5009 - accuracy: 0.7375 - val_loss: 0.5882 - val_accuracy: 0.7500\n",
      "Epoch 6/10\n",
      "80/80 [==============================] - 6s 73ms/sample - loss: 0.3925 - accuracy: 0.8125 - val_loss: 0.6231 - val_accuracy: 0.7500\n",
      "Epoch 7/10\n",
      "80/80 [==============================] - 6s 73ms/sample - loss: 0.3353 - accuracy: 0.8625 - val_loss: 0.6720 - val_accuracy: 0.7500\n",
      "Epoch 8/10\n",
      "80/80 [==============================] - 6s 73ms/sample - loss: 0.3778 - accuracy: 0.7000 - val_loss: 0.8102 - val_accuracy: 0.4000\n",
      "Epoch 9/10\n",
      "80/80 [==============================] - 5s 68ms/sample - loss: 0.3576 - accuracy: 0.7250 - val_loss: 0.7249 - val_accuracy: 0.4000\n",
      "Epoch 10/10\n",
      "80/80 [==============================] - 5s 68ms/sample - loss: 0.3179 - accuracy: 0.8375 - val_loss: 0.6615 - val_accuracy: 0.7000\n"
     ]
    }
   ],
   "source": [
    "history2=model2.fit(X_train,y_train,epochs=10,validation_split=0.2,batch_size=10)"
   ]
  },
  {
   "cell_type": "markdown",
   "metadata": {},
   "source": [
    "Show the accuracy on testing set."
   ]
  },
  {
   "cell_type": "code",
   "execution_count": 20,
   "metadata": {},
   "outputs": [
    {
     "name": "stdout",
     "output_type": "stream",
     "text": [
      "\r",
      "25/1 [==============================================================================================================================================================================================================================================================================================================================================================================================================================================================================================================================================================================================================================================================================================================================================================================] - 1s 21ms/sample - loss: 0.5074 - accuracy: 0.8000\n"
     ]
    }
   ],
   "source": [
    "acc2=model2.evaluate(X_test,y_test)[1]"
   ]
  },
  {
   "cell_type": "markdown",
   "metadata": {},
   "source": [
    "Graphs to visualize the training and validation data accuracy of CNN."
   ]
  },
  {
   "cell_type": "code",
   "execution_count": 21,
   "metadata": {},
   "outputs": [
    {
     "data": {
      "image/png": "[encoded data removed]",
      "text/plain": [
       "<Figure size 432x288 with 1 Axes>"
      ]
     },
     "metadata": {
      "needs_background": "light"
     },
     "output_type": "display_data"
    }
   ],
   "source": [
    "plt.plot(history.history['accuracy'])\n",
    "plt.plot(history.history['val_accuracy'])\n",
    "plt.title('CNN Model Accuracy')\n",
    "plt.ylabel('Accuracy')\n",
    "plt.xlabel('Epoch')\n",
    "plt.legend(['Train', 'Valid'],loc='upper left')\n",
    "plt.show()"
   ]
  },
  {
   "cell_type": "markdown",
   "metadata": {},
   "source": [
    "Graphs to visualize the training and validation data accuracy of RNN."
   ]
  },
  {
   "cell_type": "code",
   "execution_count": 22,
   "metadata": {},
   "outputs": [
    {
     "data": {
      "image/png": "[encoded data removed]",
      "text/plain": [
       "<Figure size 432x288 with 1 Axes>"
      ]
     },
     "metadata": {
      "needs_background": "light"
     },
     "output_type": "display_data"
    }
   ],
   "source": [
    "plt.plot(history2.history['accuracy'])\n",
    "plt.plot(history2.history['val_accuracy'])\n",
    "plt.title('RNN Model Accuracy')\n",
    "plt.ylabel('Accuracy')\n",
    "plt.xlabel('Epoch')\n",
    "plt.legend(['Train', 'Valid'],loc='upper left')\n",
    "plt.show()"
   ]
  },
  {
   "cell_type": "markdown",
   "metadata": {},
   "source": [
    "Graphs to visualize the accuracy of both CNN and RNN on training set."
   ]
  },
  {
   "cell_type": "code",
   "execution_count": 23,
   "metadata": {},
   "outputs": [
    {
     "data": {
      "image/png": "[encoded data removed]",
      "text/plain": [
       "<Figure size 432x288 with 1 Axes>"
      ]
     },
     "metadata": {
      "needs_background": "light"
     },
     "output_type": "display_data"
    }
   ],
   "source": [
    "plt.plot(history.history['accuracy'])\n",
    "plt.plot(history2.history['accuracy'])\n",
    "plt.title('CNN RNN Model Accuracy On Training Set ')\n",
    "plt.ylabel('Accuracy')\n",
    "plt.xlabel('Epoch')\n",
    "plt.legend(['CNN', 'RNN'],loc='upper left')\n",
    "plt.show()"
   ]
  },
  {
   "cell_type": "markdown",
   "metadata": {},
   "source": [
    "Graphs to visualize the accuracy of both CNN and RNN on validation set."
   ]
  },
  {
   "cell_type": "code",
   "execution_count": 24,
   "metadata": {},
   "outputs": [
    {
     "data": {
      "image/png": "[encoded data removed]",
      "text/plain": [
       "<Figure size 432x288 with 1 Axes>"
      ]
     },
     "metadata": {
      "needs_background": "light"
     },
     "output_type": "display_data"
    }
   ],
   "source": [
    "plt.plot(history.history['val_accuracy'])\n",
    "plt.plot(history2.history['val_accuracy'])\n",
    "plt.title('CNN RNN Model Accuracy On Validation Set ')\n",
    "plt.ylabel('Accuracy')\n",
    "plt.xlabel('Epoch')\n",
    "plt.legend(['CNN', 'RNN'],loc='upper left')\n",
    "plt.show()"
   ]
  }
 ],
 "metadata": {
  "kernelspec": {
   "display_name": "Python 3",
   "language": "python",
   "name": "python3"
  },
  "language_info": {
   "codemirror_mode": {
    "name": "ipython",
    "version": 3
   },
   "file_extension": ".py",
   "mimetype": "text/x-python",
   "name": "python",
   "nbconvert_exporter": "python",
   "pygments_lexer": "ipython3",
   "version": "3.7.1"
  }
 },
 "nbformat": 4,
 "nbformat_minor": 2
}
